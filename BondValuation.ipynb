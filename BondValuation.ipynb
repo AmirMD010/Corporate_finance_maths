{
  "nbformat": 4,
  "nbformat_minor": 0,
  "metadata": {
    "colab": {
      "provenance": []
    },
    "kernelspec": {
      "name": "python3",
      "display_name": "Python 3"
    },
    "language_info": {
      "name": "python"
    }
  },
  "cells": [
    {
      "cell_type": "code",
      "source": [
        "import pandas as pd\n",
        "import numpy as np"
      ],
      "metadata": {
        "id": "iwDpV1jfXq4c"
      },
      "execution_count": null,
      "outputs": []
    },
    {
      "cell_type": "markdown",
      "source": [
        "# **Bond Valuation**"
      ],
      "metadata": {
        "id": "9KZkNHGuXkBm"
      }
    },
    {
      "cell_type": "markdown",
      "source": [
        "**What is Bond**\n",
        "\n",
        "When government, as well as corportion, wishes to borrow money from the public, it does so by issuing or selling debt securities known as bonds.\n",
        "\n",
        "\n",
        "Bonds features or terminology may include:\n",
        "\n",
        "\n",
        "*   **Face value**: The principal amount of a bond that is repaid at the end of the term. Also called par value.\n",
        "*   **Coupon**: The stated interest payment made on a bond\n",
        "*   **Coupon rate**: The annual coupon divided by the face value of a bond.\n",
        "*   **Maturity**: The specified date on which the principal amount of a bond is paid.\n",
        "*  **Yield to maturity(YTM)**: The rate required in the market on a bond. It is also called bond yield\n",
        "\n",
        "\n",
        "The calculation of Bond Value or Price can illustrated as:\n",
        "\n",
        "**<center>B = PV of annuity + PV of lump sum</center>**\n",
        "<center>or</center>\n",
        "<center>$$ \\text{Bond Value} = C \\left[ \\frac{1 - \\frac{1}{(1+r)^t}}{r} \\right] + \\frac{F}{(1+r)^t}\n",
        "$$\n",
        "</center>\n",
        "\n",
        "\n",
        ">\n",
        "\n",
        "\n",
        "\n",
        "\n",
        "\n",
        "\n",
        "\n"
      ],
      "metadata": {
        "id": "WA-HZ1oqv-fi"
      }
    },
    {
      "cell_type": "markdown",
      "source": [
        "> Suppose Xanath Co. were to issue bond with 10 years maturity. The Xanth bond has an annual coupon of 80. Similar bonds have a yield to maturity of 8 percent. Based on our preceding discussion, the Xanth bond will pay $80 per year for the next 10 years in coupon interest. In 10 years, Xanth will pay 1 000 to the owner of the bond."
      ],
      "metadata": {
        "id": "0qO2o_LpRVhO"
      }
    },
    {
      "cell_type": "code",
      "execution_count": null,
      "metadata": {
        "colab": {
          "base_uri": "https://localhost:8080/"
        },
        "id": "jnHZYWh5XY5e",
        "outputId": "042618c3-8c19-44d2-a4e7-9e9948475391"
      },
      "outputs": [
        {
          "output_type": "stream",
          "name": "stdout",
          "text": [
            "Bond Price: 1000.0\n"
          ]
        }
      ],
      "source": [
        "class Bond:\n",
        "  def __init__(self, face_value, coupon_rate ,discount_rate, year_to_maturity ):\n",
        "    self.face_value = face_value\n",
        "    self.coupon_rate = coupon_rate\n",
        "    self.discount_rate = discount_rate\n",
        "    self.year_to_maturity = year_to_maturity\n",
        "\n",
        "  def price(self):\n",
        "    coupon_payment = (self.face_value * self.coupon_rate)\n",
        "\n",
        "    pv_annuity = sum([coupon_payment * (1-(1+self.discount_rate)**-self.year_to_maturity)/(self.discount_rate)])\n",
        "    pv_lump = sum([self.face_value * (1+self.discount_rate)**-self.year_to_maturity])\n",
        "\n",
        "    return pv_annuity + pv_lump\n",
        "\n",
        "bond = Bond(face_value=1000, coupon_rate=0.08, year_to_maturity=10, discount_rate=0.08)\n",
        "print(\"Bond Price:\", bond.price())"
      ]
    },
    {
      "cell_type": "markdown",
      "source": [
        "> Here the bonds sells exactly at its face value at interest rate in 8% as well as matching coupon rate\n",
        "\n",
        "> Now, let's illustrate the changes in interest rate. Thus the value/price of bonds changes"
      ],
      "metadata": {
        "id": "3926vXUuXu74"
      }
    },
    {
      "cell_type": "code",
      "source": [
        "bond = Bond(face_value=1000, coupon_rate=0.08, year_to_maturity=10, discount_rate=0.06)\n",
        "print(\"Bond Price:\",  round(bond.price(),2), \"at 6% interest rate\")\n",
        "\n",
        "\n",
        "bond = Bond(face_value=1000, coupon_rate=0.06, year_to_maturity=10, discount_rate=0.1)\n",
        "print(\"Bond Price:\", round(bond.price(),2), \"at 10% interest rate\")"
      ],
      "metadata": {
        "colab": {
          "base_uri": "https://localhost:8080/"
        },
        "id": "lR_Da3bHG6En",
        "outputId": "960b829d-8ad6-49b0-e797-21f817714a72"
      },
      "execution_count": null,
      "outputs": [
        {
          "output_type": "stream",
          "name": "stdout",
          "text": [
            "Bond Price: 1147.2 at 6% interest rate\n",
            "Bond Price: 754.22 at 10% interest rate\n"
          ]
        }
      ]
    },
    {
      "cell_type": "markdown",
      "source": [
        "At 10% interest rate, the bond value is less than the face value. It is said to be called *discount bond*.\n",
        "\n",
        "At 6% interest rate, the bond value is higher than the face value. So investors who purchase and keeps bond would get additional 147.2$ at maturity. It is said to be called *premium bond*.\n",
        "\n",
        "So:\n",
        "\n",
        "\n",
        "*   **Premium**. If YTM < coupon rate\n",
        "*   **Discount**. If YTM > coupon rate\n",
        "\n",
        "\n"
      ],
      "metadata": {
        "id": "_RSzecymjA7G"
      }
    },
    {
      "cell_type": "markdown",
      "source": [
        "\n",
        "\n",
        "---\n",
        "\n",
        "**Interest rate risk**\n",
        "\n",
        "Often, many of the bondholders would face fluctuating risk of interest rate. The sensitvity of its price of bonds can be attributed to: time to maturity and coupon rate.\n",
        "\n",
        "\n",
        "*   The longer the time to maturity, the higher the interest rate risk\n",
        "*   The lower the coupon rate, the higher the interest rate risk\n",
        "\n",
        "We can illustrate below the scenerio with the value of different bond that has varying coupon rate and number of years bonds matures"
      ],
      "metadata": {
        "id": "ETLuLThi80Lu"
      }
    },
    {
      "cell_type": "code",
      "source": [
        "import matplotlib.pyplot as plt\n",
        "\n",
        "R = np.linspace(1, 20, 100)\n",
        "BondValues_30 = [100 * (1-(1+(i/100))**-30)/((i/100)) + 1000 * (1+(i/100))**-30 for i in R]\n",
        "BondValues_1 = [100 * (1-(1+(i/100))**-1)/((i/100)) + 1000 * (1+(i/100))**-1 for i in R]\n",
        "\n",
        "plt.figure(figsize=(8,6))\n",
        "plt.plot(R,BondValues_30, label=\"30-year bond\")\n",
        "plt.plot(R,BondValues_1, label=\"1-year bond\")\n",
        "plt.xlabel(\"Interest rate (%)\")\n",
        "plt.ylabel(\"Bond Price\")\n",
        "plt.axvline(10, color=\"black\", linestyle=\"dashed\", linewidth=0.7)\n",
        "plt.legend()\n",
        "plt.grid(True, linestyle=\"--\", alpha=0.6)\n",
        "plt.show()"
      ],
      "metadata": {
        "colab": {
          "base_uri": "https://localhost:8080/",
          "height": 542
        },
        "id": "c9Qh4BRRAb42",
        "outputId": "6133769b-ba45-4382-92ed-1bc59ca59b8c"
      },
      "execution_count": null,
      "outputs": [
        {
          "output_type": "display_data",
          "data": {
            "text/plain": [
              "<Figure size 800x600 with 1 Axes>"
            ],
            "image/png": "[encoded data removed]"
          },
          "metadata": {}
        }
      ]
    },
    {
      "cell_type": "markdown",
      "source": [
        "Here an investors can anticipate a substantial changes in bond's price/value with interest rate risk. 1-year bonds are relatively less sensitive to interest rate risk, whereas the high year to maturity like 30-year bond have much significant interest rate risk"
      ],
      "metadata": {
        "id": "RLH6kD2MN49s"
      }
    },
    {
      "cell_type": "markdown",
      "source": [
        "## **Features on Bonds**"
      ],
      "metadata": {
        "id": "dzgfX1IN2cM2"
      }
    },
    {
      "cell_type": "markdown",
      "source": [
        "**Debt or equity?**"
      ],
      "metadata": {
        "id": "LSWPwi8d5UP4"
      }
    },
    {
      "cell_type": "markdown",
      "source": [
        "Hybrid securities can be issued by corporation that has the features of equity but treated as debt. It particulary enjoys the tax benefits obtained from issuing bonds and bankruptcy benfits obtained from equity securities. For instance, corporation issues perputual bond with interest payable only from corporate income if earned."
      ],
      "metadata": {
        "id": "mLQUPmVT5Y5L"
      }
    },
    {
      "cell_type": "markdown",
      "source": [
        "**Indenture**"
      ],
      "metadata": {
        "id": "xFCGZ6-gwwWU"
      }
    },
    {
      "cell_type": "markdown",
      "source": [
        "Indentures is a written agreement between bondholder and bond issuer that details the term of the bonds, the number and amount of bonds issued, the collateral used, the repayment provisions, call provisions and details of protective covenants."
      ],
      "metadata": {
        "id": "P0bNNp9h3MfG"
      }
    },
    {
      "cell_type": "markdown",
      "source": [
        "## **Bond Ratings**"
      ],
      "metadata": {
        "id": "XpiN7vzP5TFV"
      }
    },
    {
      "cell_type": "markdown",
      "source": [
        "The two leading bond rating firms are Moody's and S&P. The debt rating are the assessment of creditworthiness of corporate issuers and it rates the likelyhood of debt being defaulted.\n",
        "\n",
        "The rating classes includes (sorted by highest to lowest quality bond rating):\n",
        "\n",
        "\n",
        "\n",
        "*   AAA Best Quality\n",
        "*   AA High Quality\n",
        "*   A Upper Medium Grade\n",
        "*   BBB Medium Grade\n",
        "*   BB Speculative\n",
        "*   B Very Speculative\n",
        "*   CCC Very Very Speculative\n",
        "*   CC\n",
        "*   C No Interest Being Paid\n",
        "*   D Currently in Default\n",
        "\n",
        "Anything that is BBB Medium Grade or above is graded as Investment Grade. It has the capacity to repay the pricipal amount & interest, and is regarded to be high quality and less likely to default. Whereas, below BBB Medium Grade considered to be low grade or \"junk\" bonds. It capacity is very speculative and is risk of default"
      ],
      "metadata": {
        "id": "3J_qfUQB9dJ8"
      }
    },
    {
      "cell_type": "markdown",
      "source": [
        "## **Types of Bonds**"
      ],
      "metadata": {
        "id": "6hDjWk3INyFL"
      }
    },
    {
      "cell_type": "markdown",
      "source": [
        "*   **Zero-coupon bonds**: is a bond that pays no coupon annually and is priced at discount. It's yield-to-maturity (YTM) are the difference between purchase price and par value. It is sometime called zero or deep discount bonds.\n",
        "\n",
        "The calculation of zero-coupon bonds can be illustrated as:\n",
        "\n"
      ],
      "metadata": {
        "id": "7SpZ_wE8TMt2"
      }
    },
    {
      "cell_type": "markdown",
      "source": [
        "<center>$$ \\text{Zero-coupon bond} = \\frac{F}{(1+r)^t} $$ </center>"
      ],
      "metadata": {
        "id": "_4fpKPpjTaP5"
      }
    },
    {
      "cell_type": "markdown",
      "source": [
        "> Suppose you find a zero-coupon bond with a par value of $10,000 and 17 years to maturity.  If the yield to maturity on this bond is 4.2 percent,\n",
        "what is the price of the bond?"
      ],
      "metadata": {
        "id": "XOeyiBvMs5X3"
      }
    },
    {
      "cell_type": "code",
      "source": [
        "def zero_coupon_bond(F, r, t):\n",
        "  price = F * (1+r)**-t\n",
        "  return price\n",
        "\n",
        "print(\"The price of zero-coupon bond is \",round(zero_coupon_bond(10000, 0.042, 17),2))"
      ],
      "metadata": {
        "id": "pheecJo6N3qa",
        "colab": {
          "base_uri": "https://localhost:8080/"
        },
        "outputId": "531cfb4c-7b55-476f-a5a3-1f53b782e6db"
      },
      "execution_count": 6,
      "outputs": [
        {
          "output_type": "stream",
          "name": "stdout",
          "text": [
            "The price of zero-coupon bond is  4968.77\n"
          ]
        }
      ]
    },
    {
      "cell_type": "markdown",
      "source": [
        "*   **Floating-rate bond**: is one where the coupon payment are adjustble and are tied to interest rate index such as Treasury bill interest rate.\n"
      ],
      "metadata": {
        "id": "v0wU1Hhr0gQK"
      }
    },
    {
      "cell_type": "markdown",
      "source": [
        "*   **Income bond**: include coupon payment that depend on company income and can only paid out if company's income is sufficient.\n",
        "\n"
      ],
      "metadata": {
        "id": "9VMQgtkS3yqD"
      }
    },
    {
      "cell_type": "markdown",
      "source": [
        "*   **Convertible bond**: is a bond that can be converted to a predetermined number of shares of stock before maturity at bondholder's option.\n"
      ],
      "metadata": {
        "id": "QGRZCgmu5-ct"
      }
    },
    {
      "cell_type": "markdown",
      "source": [
        "*   **Callable bond**: is a bond that can be called for redemption prior to maturity."
      ],
      "metadata": {
        "id": "hVQkC6Pm6kku"
      }
    },
    {
      "cell_type": "markdown",
      "source": [
        "*   **Put bond**: allows the bondholder the right to sell the bond back to the issuer at predetermined price."
      ],
      "metadata": {
        "id": "a8zm1yh87l2H"
      }
    }
  ]
}